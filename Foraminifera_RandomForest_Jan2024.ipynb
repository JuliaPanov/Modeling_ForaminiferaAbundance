{
  "nbformat": 4,
  "nbformat_minor": 0,
  "metadata": {
    "colab": {
      "provenance": [],
      "authorship_tag": "ABX9TyMBqOhlAomWLUwcNzwM3n64",
      "include_colab_link": true
    },
    "kernelspec": {
      "name": "python3",
      "display_name": "Python 3"
    },
    "language_info": {
      "name": "python"
    }
  },
  "cells": [
    {
      "cell_type": "markdown",
      "metadata": {
        "id": "view-in-github",
        "colab_type": "text"
      },
      "source": [
        "<a href=\"https://colab.research.google.com/github/JuliaPanov/For/blob/main/Foraminifera_RandomForest_Jan2024.ipynb\" target=\"_parent\"><img src=\"https://colab.research.google.com/assets/colab-badge.svg\" alt=\"Open In Colab\"/></a>"
      ]
    },
    {
      "cell_type": "markdown",
      "source": [
        "**Random Forest Regression **\n",
        "\n",
        "Input tables:\n",
        "\n",
        "Y matrix is index \"J\" across all samples;\n",
        "\n",
        "X matrix is encoded ecological data across all samples"
      ],
      "metadata": {
        "id": "vsOx3SyOnypA"
      }
    },
    {
      "cell_type": "code",
      "execution_count": 73,
      "metadata": {
        "id": "fxJfJiILPDia"
      },
      "outputs": [],
      "source": [
        "from sklearn.model_selection import train_test_split\n",
        "from sklearn.ensemble import RandomForestRegressor\n",
        "from sklearn.metrics import mean_squared_error\n",
        "import pandas as pd\n",
        "\n",
        "dfY= pd.read_csv('/content/Indexes_abundance.txt', sep='\\t')\n",
        "dfX=pd.read_csv('/content/Ecological_CategoricalData_Filt_T_Morphotype_Encoded.txt', sep='\\t')\n"
      ]
    },
    {
      "cell_type": "code",
      "source": [
        "# Matrix Y\n",
        "Y = dfY['J']\n",
        "#print(Y)\n",
        "#Y.shape"
      ],
      "metadata": {
        "id": "5KfS7n8iPPV5"
      },
      "execution_count": null,
      "outputs": []
    },
    {
      "cell_type": "code",
      "source": [
        "X = dfX.drop('ID', axis=1)\n",
        "#X.shape"
      ],
      "metadata": {
        "id": "sohObwuXPQKX"
      },
      "execution_count": null,
      "outputs": []
    },
    {
      "cell_type": "code",
      "source": [
        "feature_list = list(X.columns)\n",
        "#print(feature_list)"
      ],
      "metadata": {
        "id": "L6UiR_a4PcS-",
        "colab": {
          "base_uri": "https://localhost:8080/"
        },
        "outputId": "595acb4d-6334-4231-dce6-574d9bd911d8"
      },
      "execution_count": 76,
      "outputs": [
        {
          "output_type": "stream",
          "name": "stdout",
          "text": [
            "['Site_AK', 'Site_RD1', 'Site_SP1', 'Depth_(m)_5', 'Depth_(m)_8', 'Depth_(m)_18', 'Season_Fall', 'Season_Spring', 'Season_Summer', 'Season_Winter', 'Morphotype_articulated_calcareous', 'Morphotype_corticated', 'Morphotype_corticated_foliose', 'Morphotype_leathery']\n"
          ]
        }
      ]
    },
    {
      "cell_type": "code",
      "source": [
        "# Split the data into training and testing sets\n",
        "X_train, X_test, y_train, y_test = train_test_split(X, Y, test_size=0.2)"
      ],
      "metadata": {
        "id": "aHAFRBjQPiou"
      },
      "execution_count": 36,
      "outputs": []
    },
    {
      "cell_type": "code",
      "source": [
        "##RANDOM FOREST REGRESSION --> index \"J\"\n",
        "RF = RandomForestRegressor(max_depth=3, n_estimators = 100, bootstrap=True)\n",
        "RF.fit(X_test, y_test)\n",
        "RF_predict = RF.predict(X_test)"
      ],
      "metadata": {
        "id": "qnK-VBhdDCmU"
      },
      "execution_count": 37,
      "outputs": []
    },
    {
      "cell_type": "code",
      "source": [
        "# save the model in a binary file to be used later if needed\n",
        "filename = 'RF_model.sav'\n",
        "with open(filename, 'wb') as f:\n",
        "    pickle.dump(RF, f)"
      ],
      "metadata": {
        "id": "BCsl8e1hiq6z"
      },
      "execution_count": 54,
      "outputs": []
    },
    {
      "cell_type": "code",
      "source": [
        "# Plot the results of predictions\n",
        "import matplotlib.pyplot as plt\n",
        "x_ax = range(len(y_test))\n",
        "plt.figure()\n",
        "plt.scatter(x_ax, y_test, s=100, c=\"cornflowerblue\", label=\"data\")\n",
        "plt.scatter(x_ax, RF_predict, s=20, edgecolor=\"black\", color=\"darkorange\", label=\"prediction\", linewidth=2)\n",
        "plt.xlabel(\"Observation\")\n",
        "plt.ylabel(\"J index\")\n",
        "plt.title(\"Random Forest Regression\")\n",
        "plt.legend()\n",
        "\n",
        "# Save the plot as a PNG file\n",
        "plt.savefig(\"random_forest_regression_plot.png\")\n",
        "\n",
        "# Show the plot\n",
        "#plt.show()"
      ],
      "metadata": {
        "id": "zVCUMbBFDHTE"
      },
      "execution_count": null,
      "outputs": []
    },
    {
      "cell_type": "code",
      "source": [
        "with open('RandomForest_Accuracy.txt', 'w') as file:\n",
        "    file.write(\"Model Accuracy: %.3f\\n\" % RF.score(X_test, y_test))\n",
        "    mse = mean_squared_error(y_test, RF.predict(X_test))\n",
        "    file.write(\"The mean squared error (MSE) on test set: {:.4f}\".format(mse))"
      ],
      "metadata": {
        "id": "PAz6F4EeD1FU"
      },
      "execution_count": 50,
      "outputs": []
    },
    {
      "cell_type": "code",
      "source": [
        "##get feature importance\n",
        "feature_importance = RF.feature_importances_\n",
        "\n",
        "importance_df = pd.DataFrame({'features': X_train.columns,\n",
        "                              'importance': feature_importance})\n",
        "importance_df.sort_values(by='importance', ascending=False, inplace=True)\n",
        "importance_df\n",
        "importance_df.to_csv('RandomForestRegressor_FeatureImportance.txt', index=True, sep='\\t')\n",
        "#print(importance_df)"
      ],
      "metadata": {
        "id": "fucAiXUTD4AL"
      },
      "execution_count": null,
      "outputs": []
    },
    {
      "cell_type": "code",
      "source": [
        "# Trees - visualization\n",
        "from sklearn.tree import export_graphviz\n",
        "from IPython.display import Image, display\n",
        "import graphviz\n",
        "import os\n",
        "\n",
        "# Create a directory to save the trees\n",
        "if not os.path.exists(\"saved_trees\"):\n",
        "    os.makedirs(\"saved_trees\")\n",
        "\n",
        "# Export the first i decision trees from the forest\n",
        "for i in range(5):\n",
        "    tree = RF.estimators_[i]\n",
        "    dot_data = export_graphviz(tree,\n",
        "                               feature_names=X_train.columns,\n",
        "                               filled=True,\n",
        "                               max_depth=2,\n",
        "                               impurity=False,\n",
        "                               proportion=True)\n",
        "\n",
        "    # Save the plot as a PNG file with a unique filename for each tree\n",
        "    filename = f\"saved_tree_{i+1}.png\"\n",
        "    graph = graphviz.Source(dot_data, format=\"png\")\n",
        "    graph.render(filename, format=\"png\", cleanup=True)\n",
        "\n",
        "    # Display the graph if needed\n",
        "    #display(graph)\n"
      ],
      "metadata": {
        "id": "taKocJU5mKWj"
      },
      "execution_count": 57,
      "outputs": []
    },
    {
      "cell_type": "code",
      "source": [
        "# For later use --> load the model\n",
        "filename = 'RF_Regression_model.sav'\n",
        "with open(filename, 'rb') as f:\n",
        "    #pickle.dump(model, f)\n",
        "    loaded_model = pickle.load(f)\n",
        "result = loaded_model.score(X_test, Y_test)\n",
        "#print(result)"
      ],
      "metadata": {
        "id": "e3NxL3qoDwIs"
      },
      "execution_count": null,
      "outputs": []
    },
    {
      "cell_type": "markdown",
      "source": [
        "\n",
        "\n",
        "*Random Forest Classifier *\n",
        "\n",
        "Input tables:\n",
        "\n",
        "Y matrix is index \"Class\" based on the depth of the observation;\n",
        "\n",
        "X matrix is relative abundance of foraminifera dominant specaies that appear in more than 5 observations\n",
        "\n"
      ],
      "metadata": {
        "id": "3fLjkeQfp_cU"
      }
    },
    {
      "cell_type": "code",
      "source": [
        "df=pd.read_csv('/Depth_class_abundance_Forams5samples.txt', sep='\\t')\n",
        "\n",
        "# Matrix Y\n",
        "Y = df['Class']\n",
        "#Y.shape"
      ],
      "metadata": {
        "id": "tHKRwLGbw_sP"
      },
      "execution_count": null,
      "outputs": []
    },
    {
      "cell_type": "code",
      "source": [
        "# Matrix X\n",
        "\n",
        "X = df.drop('Class', axis=1)\n",
        "#X.shape"
      ],
      "metadata": {
        "id": "W5uvVY_4xRSZ"
      },
      "execution_count": null,
      "outputs": []
    },
    {
      "cell_type": "code",
      "source": [
        "# Split the data into training and testing sets\n",
        "X_train, X_test, y_train, y_test = train_test_split(X, Y, test_size=0.2, stratify=Y)"
      ],
      "metadata": {
        "id": "scCXsRqgy88x"
      },
      "execution_count": 71,
      "outputs": []
    },
    {
      "cell_type": "code",
      "source": [
        "##RANDOM FOREST CLASSIFIER\n",
        "from sklearn.ensemble import RandomForestClassifier\n",
        "from sklearn.metrics import accuracy_score, classification_report\n",
        "\n",
        "# Create a Random Forest Classifier\n",
        "rf = RandomForestClassifier(n_estimators=100, random_state=42, max_depth=5, criterion ='gini', min_samples_leaf= 3, bootstrap=True)\n",
        "\n",
        "# Fit the model on the training data\n",
        "rf.fit(X_train, y_train)\n",
        "\n",
        "# Make predictions on the test set\n",
        "predictions = rf.predict(X_test)\n",
        "\n",
        "# Evaluate the model\n",
        "accuracy = accuracy_score(y_test, predictions)\n",
        "accuracy_train = accuracy_score(y_train, rf.predict(X_train))\n",
        "\n",
        "with open('RandomForest_Accuracy.txt', 'w') as file:\n",
        "    file.write((f\"Accuracy: {accuracy:.2f}\"))\n",
        "    file.write(f\"Accuracy on training set: {accuracy_train:.2f}\")\n",
        "\n",
        "print(f\"Accuracy on testing set: {accuracy:.2f}\")\n",
        "print(f\"Accuracy on training set: {accuracy_train:.2f}\")\n"
      ],
      "metadata": {
        "id": "c8dp1hILwj63"
      },
      "execution_count": null,
      "outputs": []
    },
    {
      "cell_type": "code",
      "source": [
        "# save the model in a binary file to be used later if needed\n",
        "filename = 'RF_model.sav'\n",
        "with open(filename, 'wb') as f:\n",
        "    pickle.dump(RF, f)"
      ],
      "metadata": {
        "id": "xOAKnljm3pu8"
      },
      "execution_count": 91,
      "outputs": []
    },
    {
      "cell_type": "code",
      "source": [
        "# Trees - visualization\n",
        "from sklearn.tree import export_graphviz\n",
        "from IPython.display import Image, display\n",
        "import graphviz\n",
        "import os\n",
        "\n",
        "# Create a directory to save the trees\n",
        "if not os.path.exists(\"saved_trees\"):\n",
        "    os.makedirs(\"saved_trees\")\n",
        "\n",
        "# Export the first i decision trees from the forest\n",
        "for i in range(3):\n",
        "    tree = rf.estimators_[i]\n",
        "    dot_data = export_graphviz(tree,\n",
        "                               feature_names=X_test.columns,\n",
        "                               filled=True,\n",
        "                               max_depth=2,\n",
        "                               impurity=False,\n",
        "                               proportion=True)\n",
        "\n",
        "    # Save the plot as a PNG file with a unique filename for each tree\n",
        "    filename = f\"saved_tree_{i+1}.png\"\n",
        "    graph = graphviz.Source(dot_data, format=\"png\")\n",
        "    graph.render(filename, format=\"png\", cleanup=True)\n",
        "\n",
        "    # Display the graph if needed\n",
        "    #display(graph)"
      ],
      "metadata": {
        "id": "PJxPu8Ai3ags"
      },
      "execution_count": null,
      "outputs": []
    },
    {
      "cell_type": "code",
      "source": [
        "##get feature importance\n",
        "feature_importance = rf.feature_importances_\n",
        "\n",
        "importance_df = pd.DataFrame({'features': X_train.columns,\n",
        "                              'importance': feature_importance})\n",
        "importance_df.sort_values(by='importance', ascending=False, inplace=True)\n",
        "importance_df\n",
        "importance_df.to_csv('RandomForest_FeatureImportance.txt', index=True, sep='\\t')\n",
        "#print(importance_df)"
      ],
      "metadata": {
        "id": "fnjjcEpp4Beb"
      },
      "execution_count": null,
      "outputs": []
    },
    {
      "cell_type": "code",
      "source": [
        "##CONFUSION MATRIX\n",
        "import seaborn as sns\n",
        "import matplotlib.pyplot as plt\n",
        "from sklearn.metrics import confusion_matrix\n",
        "\n",
        "cm = confusion_matrix(y_test, predictions)\n",
        "sns.heatmap(cm, annot=True, fmt=\"d\", cmap=\"Blues\", xticklabels=['I', 'SH', 'VS'], yticklabels=['I', 'SH', 'VS'])\n",
        "plt.xlabel('Predicted')\n",
        "plt.ylabel('Actual')\n",
        "plt.title('Confusion Matrix')\n",
        "\n",
        "# Save the figure\n",
        "plt.savefig('confusion_matrix.png')\n",
        "\n",
        "# Show the plot\n",
        "#plt.show()"
      ],
      "metadata": {
        "id": "kbtgSXe53dtK"
      },
      "execution_count": null,
      "outputs": []
    }
  ]
}